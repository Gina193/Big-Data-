{
 "cells": [
  {
   "cell_type": "code",
   "execution_count": 1,
   "metadata": {},
   "outputs": [],
   "source": [
    "import pandas as pd \n",
    "BigData = pd.read_csv(\"BigData.csv\")"
   ]
  },
  {
   "cell_type": "code",
   "execution_count": 2,
   "metadata": {},
   "outputs": [
    {
     "data": {
      "text/html": [
       "<div>\n",
       "<style scoped>\n",
       "    .dataframe tbody tr th:only-of-type {\n",
       "        vertical-align: middle;\n",
       "    }\n",
       "\n",
       "    .dataframe tbody tr th {\n",
       "        vertical-align: top;\n",
       "    }\n",
       "\n",
       "    .dataframe thead th {\n",
       "        text-align: right;\n",
       "    }\n",
       "</style>\n",
       "<table border=\"1\" class=\"dataframe\">\n",
       "  <thead>\n",
       "    <tr style=\"text-align: right;\">\n",
       "      <th></th>\n",
       "      <th>review_id</th>\n",
       "      <th>star_rating</th>\n",
       "      <th>helpful_votes</th>\n",
       "      <th>total_votes</th>\n",
       "      <th>vine</th>\n",
       "      <th>verified_purchase</th>\n",
       "    </tr>\n",
       "  </thead>\n",
       "  <tbody>\n",
       "    <tr>\n",
       "      <th>0</th>\n",
       "      <td>R3P2HIOQCIN5ZU</td>\n",
       "      <td>1</td>\n",
       "      <td>0</td>\n",
       "      <td>0</td>\n",
       "      <td>N</td>\n",
       "      <td>Y</td>\n",
       "    </tr>\n",
       "    <tr>\n",
       "      <th>1</th>\n",
       "      <td>R12VVR0WH5Q24V</td>\n",
       "      <td>5</td>\n",
       "      <td>0</td>\n",
       "      <td>0</td>\n",
       "      <td>N</td>\n",
       "      <td>Y</td>\n",
       "    </tr>\n",
       "    <tr>\n",
       "      <th>2</th>\n",
       "      <td>RNCCKB6TV5EEF</td>\n",
       "      <td>4</td>\n",
       "      <td>0</td>\n",
       "      <td>0</td>\n",
       "      <td>N</td>\n",
       "      <td>Y</td>\n",
       "    </tr>\n",
       "    <tr>\n",
       "      <th>3</th>\n",
       "      <td>R2NZXYIVCGB13W</td>\n",
       "      <td>5</td>\n",
       "      <td>0</td>\n",
       "      <td>6</td>\n",
       "      <td>N</td>\n",
       "      <td>Y</td>\n",
       "    </tr>\n",
       "    <tr>\n",
       "      <th>4</th>\n",
       "      <td>R2EQ1TG9IT3OEQ</td>\n",
       "      <td>3</td>\n",
       "      <td>0</td>\n",
       "      <td>0</td>\n",
       "      <td>N</td>\n",
       "      <td>Y</td>\n",
       "    </tr>\n",
       "  </tbody>\n",
       "</table>\n",
       "</div>"
      ],
      "text/plain": [
       "        review_id  star_rating  helpful_votes  total_votes vine  \\\n",
       "0  R3P2HIOQCIN5ZU            1              0            0    N   \n",
       "1  R12VVR0WH5Q24V            5              0            0    N   \n",
       "2   RNCCKB6TV5EEF            4              0            0    N   \n",
       "3  R2NZXYIVCGB13W            5              0            6    N   \n",
       "4  R2EQ1TG9IT3OEQ            3              0            0    N   \n",
       "\n",
       "  verified_purchase  \n",
       "0                 Y  \n",
       "1                 Y  \n",
       "2                 Y  \n",
       "3                 Y  \n",
       "4                 Y  "
      ]
     },
     "execution_count": 2,
     "metadata": {},
     "output_type": "execute_result"
    }
   ],
   "source": [
    "BigData.head()"
   ]
  },
  {
   "cell_type": "code",
   "execution_count": 10,
   "metadata": {},
   "outputs": [],
   "source": [
    "#Filter the data and create a new DataFrame or table to retrieve all the rows where the total_votes count is equal to or greater than 20 to pick reviews that are more likely to be helpful and to avoid having division by zero errors later onnewdf = selectdf.filter (total_votes)\n",
    "filter_df=BigData[BigData[\"total_votes\"]>=20] "
   ]
  },
  {
   "cell_type": "code",
   "execution_count": 14,
   "metadata": {},
   "outputs": [
    {
     "data": {
      "text/html": [
       "<div>\n",
       "<style scoped>\n",
       "    .dataframe tbody tr th:only-of-type {\n",
       "        vertical-align: middle;\n",
       "    }\n",
       "\n",
       "    .dataframe tbody tr th {\n",
       "        vertical-align: top;\n",
       "    }\n",
       "\n",
       "    .dataframe thead th {\n",
       "        text-align: right;\n",
       "    }\n",
       "</style>\n",
       "<table border=\"1\" class=\"dataframe\">\n",
       "  <thead>\n",
       "    <tr style=\"text-align: right;\">\n",
       "      <th></th>\n",
       "    </tr>\n",
       "  </thead>\n",
       "  <tbody>\n",
       "    <tr>\n",
       "      <th>218</th>\n",
       "    </tr>\n",
       "    <tr>\n",
       "      <th>557</th>\n",
       "    </tr>\n",
       "    <tr>\n",
       "      <th>560</th>\n",
       "    </tr>\n",
       "    <tr>\n",
       "      <th>909</th>\n",
       "    </tr>\n",
       "    <tr>\n",
       "      <th>1232</th>\n",
       "    </tr>\n",
       "    <tr>\n",
       "      <th>...</th>\n",
       "    </tr>\n",
       "    <tr>\n",
       "      <th>4366771</th>\n",
       "    </tr>\n",
       "    <tr>\n",
       "      <th>4366804</th>\n",
       "    </tr>\n",
       "    <tr>\n",
       "      <th>4366844</th>\n",
       "    </tr>\n",
       "    <tr>\n",
       "      <th>4366886</th>\n",
       "    </tr>\n",
       "    <tr>\n",
       "      <th>4366893</th>\n",
       "    </tr>\n",
       "  </tbody>\n",
       "</table>\n",
       "<p>27884 rows × 0 columns</p>\n",
       "</div>"
      ],
      "text/plain": [
       "Empty DataFrame\n",
       "Columns: []\n",
       "Index: [218, 557, 560, 909, 1232, 2069, 2256, 2386, 3073, 3329, 3698, 3842, 3894, 3927, 4143, 4582, 4613, 4982, 5372, 5397, 5467, 5807, 6017, 6416, 6552, 7019, 7051, 7066, 7986, 8004, 8320, 8703, 8706, 9000, 9128, 9376, 9681, 9829, 10621, 10876, 11077, 11246, 11283, 11716, 11906, 12238, 12648, 13594, 13827, 14059, 15173, 15347, 15530, 15715, 16098, 16120, 16270, 16275, 16646, 16737, 16976, 17097, 17386, 17432, 17459, 17635, 17665, 17744, 17798, 18038, 18140, 18176, 18376, 18506, 18946, 19579, 19662, 19875, 20491, 20617, 21022, 21068, 21344, 21450, 22048, 22345, 22608, 22741, 23677, 23704, 24152, 24244, 24892, 24975, 25068, 25192, 25233, 25645, 25709, 25789, ...]\n",
       "\n",
       "[27884 rows x 0 columns]"
      ]
     },
     "execution_count": 14,
     "metadata": {},
     "output_type": "execute_result"
    }
   ],
   "source": [
    "#Filter the new DataFrame or table created in Step 1 and create a new DataFrame or table to retrieve all the rows where the number of helpful_votes divided by total_votes is equal to or greater than 50%.\n",
    "helpful_review = filter_df.filter(filter_df['helpful_votes']/filter_df['total_votes'] >= 0.5)\n",
    "helpful_review\n"
   ]
  },
  {
   "cell_type": "code",
   "execution_count": 16,
   "metadata": {},
   "outputs": [
    {
     "data": {
      "text/html": [
       "<div>\n",
       "<style scoped>\n",
       "    .dataframe tbody tr th:only-of-type {\n",
       "        vertical-align: middle;\n",
       "    }\n",
       "\n",
       "    .dataframe tbody tr th {\n",
       "        vertical-align: top;\n",
       "    }\n",
       "\n",
       "    .dataframe thead th {\n",
       "        text-align: right;\n",
       "    }\n",
       "</style>\n",
       "<table border=\"1\" class=\"dataframe\">\n",
       "  <thead>\n",
       "    <tr style=\"text-align: right;\">\n",
       "      <th></th>\n",
       "      <th>review_id</th>\n",
       "      <th>star_rating</th>\n",
       "      <th>helpful_votes</th>\n",
       "      <th>total_votes</th>\n",
       "      <th>vine</th>\n",
       "      <th>verified_purchase</th>\n",
       "    </tr>\n",
       "  </thead>\n",
       "  <tbody>\n",
       "    <tr>\n",
       "      <th>218</th>\n",
       "      <td>R37F42INKX7L9K</td>\n",
       "      <td>5</td>\n",
       "      <td>45</td>\n",
       "      <td>49</td>\n",
       "      <td>N</td>\n",
       "      <td>Y</td>\n",
       "    </tr>\n",
       "    <tr>\n",
       "      <th>557</th>\n",
       "      <td>R2EHKYNEP8WVSR</td>\n",
       "      <td>5</td>\n",
       "      <td>25</td>\n",
       "      <td>25</td>\n",
       "      <td>N</td>\n",
       "      <td>Y</td>\n",
       "    </tr>\n",
       "    <tr>\n",
       "      <th>560</th>\n",
       "      <td>RXOS7BHID0UHL</td>\n",
       "      <td>5</td>\n",
       "      <td>16</td>\n",
       "      <td>27</td>\n",
       "      <td>N</td>\n",
       "      <td>N</td>\n",
       "    </tr>\n",
       "    <tr>\n",
       "      <th>909</th>\n",
       "      <td>R33HHGFPB403GM</td>\n",
       "      <td>5</td>\n",
       "      <td>19</td>\n",
       "      <td>21</td>\n",
       "      <td>N</td>\n",
       "      <td>Y</td>\n",
       "    </tr>\n",
       "    <tr>\n",
       "      <th>1232</th>\n",
       "      <td>RY9O9XNLP464N</td>\n",
       "      <td>2</td>\n",
       "      <td>19</td>\n",
       "      <td>22</td>\n",
       "      <td>N</td>\n",
       "      <td>Y</td>\n",
       "    </tr>\n",
       "  </tbody>\n",
       "</table>\n",
       "</div>"
      ],
      "text/plain": [
       "           review_id  star_rating  helpful_votes  total_votes vine  \\\n",
       "218   R37F42INKX7L9K            5             45           49    N   \n",
       "557   R2EHKYNEP8WVSR            5             25           25    N   \n",
       "560    RXOS7BHID0UHL            5             16           27    N   \n",
       "909   R33HHGFPB403GM            5             19           21    N   \n",
       "1232   RY9O9XNLP464N            2             19           22    N   \n",
       "\n",
       "     verified_purchase  \n",
       "218                  Y  \n",
       "557                  Y  \n",
       "560                  N  \n",
       "909                  Y  \n",
       "1232                 Y  "
      ]
     },
     "execution_count": 16,
     "metadata": {},
     "output_type": "execute_result"
    }
   ],
   "source": [
    "filter_df.head()"
   ]
  },
  {
   "cell_type": "code",
   "execution_count": 17,
   "metadata": {},
   "outputs": [],
   "source": [
    "#Filter the DataFrame or table created in Step 2, and create a new DataFrame or table that retrieves all the rows where a review was written as part of the Vine program (paid), vine == 'Y'.\n",
    "\n",
    "filter_df_paid = filter_df[filter_df['vine']=='Y']"
   ]
  },
  {
   "cell_type": "code",
   "execution_count": 22,
   "metadata": {},
   "outputs": [
    {
     "data": {
      "text/plain": [
       "22"
      ]
     },
     "execution_count": 22,
     "metadata": {},
     "output_type": "execute_result"
    }
   ],
   "source": [
    "filter_df_paid[\"review_id\"].count()"
   ]
  },
  {
   "cell_type": "code",
   "execution_count": 23,
   "metadata": {},
   "outputs": [],
   "source": [
    "#Repeat Step 3, but this time retrieve all the rows where the review was not part of the Vine program (unpaid), vine == 'N'\n",
    "filter_df_unpaid = filter_df[filter_df['vine']=='N']"
   ]
  },
  {
   "cell_type": "code",
   "execution_count": 33,
   "metadata": {},
   "outputs": [
    {
     "data": {
      "text/plain": [
       "27862"
      ]
     },
     "execution_count": 33,
     "metadata": {},
     "output_type": "execute_result"
    }
   ],
   "source": [
    "filter_df_unpaid[\"review_id\"].count()"
   ]
  },
  {
   "cell_type": "code",
   "execution_count": 24,
   "metadata": {},
   "outputs": [
    {
     "data": {
      "text/plain": [
       "27884"
      ]
     },
     "execution_count": 24,
     "metadata": {},
     "output_type": "execute_result"
    }
   ],
   "source": [
    "#Determine the total number of reviews\n",
    "total_reviews = filter_df['total_votes'].count()\n",
    "total_reviews"
   ]
  },
  {
   "cell_type": "code",
   "execution_count": 25,
   "metadata": {},
   "outputs": [
    {
     "data": {
      "text/plain": [
       "14594"
      ]
     },
     "execution_count": 25,
     "metadata": {},
     "output_type": "execute_result"
    }
   ],
   "source": [
    "#the number of 5-star reviews,  the percentage of 5-star reviews for the two types of review (paid vs unpaid).\n",
    "\n",
    "totalfivestarreviews = filter_df[filter_df[\"star_rating\"]==5.0][\"total_votes\"].count()\n",
    "totalfivestarreviews"
   ]
  },
  {
   "cell_type": "code",
   "execution_count": 26,
   "metadata": {},
   "outputs": [],
   "source": [
    "#the percentage of 5-star reviews for the two types of review for paid\n",
    "totalpaidfivestarreviews = filter_df_paid[filter_df_paid[\"star_rating\"]==5.0][\"review_id\"].count()"
   ]
  },
  {
   "cell_type": "code",
   "execution_count": 37,
   "metadata": {},
   "outputs": [
    {
     "data": {
      "text/plain": [
       "27862"
      ]
     },
     "execution_count": 37,
     "metadata": {},
     "output_type": "execute_result"
    }
   ],
   "source": [
    "filter_df_unpaid[\"review_id\"].count()"
   ]
  },
  {
   "cell_type": "code",
   "execution_count": 27,
   "metadata": {},
   "outputs": [],
   "source": [
    "#the percentage of 5-star reviews for the two types of review unpaid\n",
    "totalunpaidfivestarreviews = filter_df_unpaid[filter_df_unpaid[\"star_rating\"]==5.0][\"review_id\"].count()"
   ]
  },
  {
   "cell_type": "code",
   "execution_count": 28,
   "metadata": {},
   "outputs": [
    {
     "data": {
      "text/plain": [
       "0.08907770316568453"
      ]
     },
     "execution_count": 28,
     "metadata": {},
     "output_type": "execute_result"
    }
   ],
   "source": [
    "percentpaid=(totalpaidfivestarreviews / totalfivestarreviews) *100\n",
    "percentpaid"
   ]
  },
  {
   "cell_type": "code",
   "execution_count": 29,
   "metadata": {},
   "outputs": [
    {
     "data": {
      "text/plain": [
       "99.91092229683431"
      ]
     },
     "execution_count": 29,
     "metadata": {},
     "output_type": "execute_result"
    }
   ],
   "source": [
    "percentunpaid=(totalunpaidfivestarreviews / totalfivestarreviews) *100\n",
    "percentunpaid"
   ]
  },
  {
   "cell_type": "code",
   "execution_count": 31,
   "metadata": {},
   "outputs": [
    {
     "data": {
      "text/html": [
       "<div>\n",
       "<style scoped>\n",
       "    .dataframe tbody tr th:only-of-type {\n",
       "        vertical-align: middle;\n",
       "    }\n",
       "\n",
       "    .dataframe tbody tr th {\n",
       "        vertical-align: top;\n",
       "    }\n",
       "\n",
       "    .dataframe thead th {\n",
       "        text-align: right;\n",
       "    }\n",
       "</style>\n",
       "<table border=\"1\" class=\"dataframe\">\n",
       "  <thead>\n",
       "    <tr style=\"text-align: right;\">\n",
       "      <th></th>\n",
       "      <th>review_id</th>\n",
       "      <th>star_rating</th>\n",
       "      <th>helpful_votes</th>\n",
       "      <th>total_votes</th>\n",
       "      <th>vine</th>\n",
       "      <th>verified_purchase</th>\n",
       "    </tr>\n",
       "  </thead>\n",
       "  <tbody>\n",
       "    <tr>\n",
       "      <th>270349</th>\n",
       "      <td>R2N45ZKRRZS856</td>\n",
       "      <td>5</td>\n",
       "      <td>21</td>\n",
       "      <td>22</td>\n",
       "      <td>Y</td>\n",
       "      <td>N</td>\n",
       "    </tr>\n",
       "    <tr>\n",
       "      <th>306676</th>\n",
       "      <td>R5OMLMK13A8NS</td>\n",
       "      <td>5</td>\n",
       "      <td>34</td>\n",
       "      <td>38</td>\n",
       "      <td>Y</td>\n",
       "      <td>N</td>\n",
       "    </tr>\n",
       "    <tr>\n",
       "      <th>1231743</th>\n",
       "      <td>R1SPWJDHUWWC5E</td>\n",
       "      <td>5</td>\n",
       "      <td>88</td>\n",
       "      <td>98</td>\n",
       "      <td>Y</td>\n",
       "      <td>N</td>\n",
       "    </tr>\n",
       "    <tr>\n",
       "      <th>1243026</th>\n",
       "      <td>R1X6M5XA3FT98W</td>\n",
       "      <td>5</td>\n",
       "      <td>24</td>\n",
       "      <td>26</td>\n",
       "      <td>Y</td>\n",
       "      <td>N</td>\n",
       "    </tr>\n",
       "    <tr>\n",
       "      <th>1268364</th>\n",
       "      <td>R37VCW6HA0Z72T</td>\n",
       "      <td>5</td>\n",
       "      <td>27</td>\n",
       "      <td>28</td>\n",
       "      <td>Y</td>\n",
       "      <td>N</td>\n",
       "    </tr>\n",
       "    <tr>\n",
       "      <th>1290559</th>\n",
       "      <td>R2XRYNV2SY3ZKL</td>\n",
       "      <td>5</td>\n",
       "      <td>53</td>\n",
       "      <td>56</td>\n",
       "      <td>Y</td>\n",
       "      <td>N</td>\n",
       "    </tr>\n",
       "    <tr>\n",
       "      <th>1312914</th>\n",
       "      <td>R2QVTDYYLTP8SL</td>\n",
       "      <td>5</td>\n",
       "      <td>21</td>\n",
       "      <td>24</td>\n",
       "      <td>Y</td>\n",
       "      <td>N</td>\n",
       "    </tr>\n",
       "    <tr>\n",
       "      <th>1327911</th>\n",
       "      <td>R3SEZS7BZEC69Y</td>\n",
       "      <td>5</td>\n",
       "      <td>16</td>\n",
       "      <td>20</td>\n",
       "      <td>Y</td>\n",
       "      <td>N</td>\n",
       "    </tr>\n",
       "    <tr>\n",
       "      <th>1509983</th>\n",
       "      <td>R1307JMPUEQXOW</td>\n",
       "      <td>5</td>\n",
       "      <td>31</td>\n",
       "      <td>35</td>\n",
       "      <td>Y</td>\n",
       "      <td>N</td>\n",
       "    </tr>\n",
       "    <tr>\n",
       "      <th>2373630</th>\n",
       "      <td>RBMDYE7LUH9FI</td>\n",
       "      <td>5</td>\n",
       "      <td>26</td>\n",
       "      <td>32</td>\n",
       "      <td>Y</td>\n",
       "      <td>N</td>\n",
       "    </tr>\n",
       "    <tr>\n",
       "      <th>2439075</th>\n",
       "      <td>R1N4W961QV59BV</td>\n",
       "      <td>5</td>\n",
       "      <td>25</td>\n",
       "      <td>34</td>\n",
       "      <td>Y</td>\n",
       "      <td>N</td>\n",
       "    </tr>\n",
       "    <tr>\n",
       "      <th>2462716</th>\n",
       "      <td>R2AT1A0VUSY955</td>\n",
       "      <td>5</td>\n",
       "      <td>22</td>\n",
       "      <td>24</td>\n",
       "      <td>Y</td>\n",
       "      <td>N</td>\n",
       "    </tr>\n",
       "    <tr>\n",
       "      <th>3791315</th>\n",
       "      <td>RMFBF4KEBW9RK</td>\n",
       "      <td>5</td>\n",
       "      <td>37</td>\n",
       "      <td>43</td>\n",
       "      <td>Y</td>\n",
       "      <td>N</td>\n",
       "    </tr>\n",
       "  </tbody>\n",
       "</table>\n",
       "</div>"
      ],
      "text/plain": [
       "              review_id  star_rating  helpful_votes  total_votes vine  \\\n",
       "270349   R2N45ZKRRZS856            5             21           22    Y   \n",
       "306676    R5OMLMK13A8NS            5             34           38    Y   \n",
       "1231743  R1SPWJDHUWWC5E            5             88           98    Y   \n",
       "1243026  R1X6M5XA3FT98W            5             24           26    Y   \n",
       "1268364  R37VCW6HA0Z72T            5             27           28    Y   \n",
       "1290559  R2XRYNV2SY3ZKL            5             53           56    Y   \n",
       "1312914  R2QVTDYYLTP8SL            5             21           24    Y   \n",
       "1327911  R3SEZS7BZEC69Y            5             16           20    Y   \n",
       "1509983  R1307JMPUEQXOW            5             31           35    Y   \n",
       "2373630   RBMDYE7LUH9FI            5             26           32    Y   \n",
       "2439075  R1N4W961QV59BV            5             25           34    Y   \n",
       "2462716  R2AT1A0VUSY955            5             22           24    Y   \n",
       "3791315   RMFBF4KEBW9RK            5             37           43    Y   \n",
       "\n",
       "        verified_purchase  \n",
       "270349                  N  \n",
       "306676                  N  \n",
       "1231743                 N  \n",
       "1243026                 N  \n",
       "1268364                 N  \n",
       "1290559                 N  \n",
       "1312914                 N  \n",
       "1327911                 N  \n",
       "1509983                 N  \n",
       "2373630                 N  \n",
       "2439075                 N  \n",
       "2462716                 N  \n",
       "3791315                 N  "
      ]
     },
     "execution_count": 31,
     "metadata": {},
     "output_type": "execute_result"
    }
   ],
   "source": [
    "filter_df_paid[filter_df_paid[\"star_rating\"]==5.0]"
   ]
  },
  {
   "cell_type": "code",
   "execution_count": 32,
   "metadata": {},
   "outputs": [
    {
     "data": {
      "text/html": [
       "<div>\n",
       "<style scoped>\n",
       "    .dataframe tbody tr th:only-of-type {\n",
       "        vertical-align: middle;\n",
       "    }\n",
       "\n",
       "    .dataframe tbody tr th {\n",
       "        vertical-align: top;\n",
       "    }\n",
       "\n",
       "    .dataframe thead th {\n",
       "        text-align: right;\n",
       "    }\n",
       "</style>\n",
       "<table border=\"1\" class=\"dataframe\">\n",
       "  <thead>\n",
       "    <tr style=\"text-align: right;\">\n",
       "      <th></th>\n",
       "      <th>review_id</th>\n",
       "      <th>star_rating</th>\n",
       "      <th>helpful_votes</th>\n",
       "      <th>total_votes</th>\n",
       "      <th>vine</th>\n",
       "      <th>verified_purchase</th>\n",
       "    </tr>\n",
       "  </thead>\n",
       "  <tbody>\n",
       "    <tr>\n",
       "      <th>218</th>\n",
       "      <td>R37F42INKX7L9K</td>\n",
       "      <td>5</td>\n",
       "      <td>45</td>\n",
       "      <td>49</td>\n",
       "      <td>N</td>\n",
       "      <td>Y</td>\n",
       "    </tr>\n",
       "    <tr>\n",
       "      <th>557</th>\n",
       "      <td>R2EHKYNEP8WVSR</td>\n",
       "      <td>5</td>\n",
       "      <td>25</td>\n",
       "      <td>25</td>\n",
       "      <td>N</td>\n",
       "      <td>Y</td>\n",
       "    </tr>\n",
       "    <tr>\n",
       "      <th>560</th>\n",
       "      <td>RXOS7BHID0UHL</td>\n",
       "      <td>5</td>\n",
       "      <td>16</td>\n",
       "      <td>27</td>\n",
       "      <td>N</td>\n",
       "      <td>N</td>\n",
       "    </tr>\n",
       "    <tr>\n",
       "      <th>909</th>\n",
       "      <td>R33HHGFPB403GM</td>\n",
       "      <td>5</td>\n",
       "      <td>19</td>\n",
       "      <td>21</td>\n",
       "      <td>N</td>\n",
       "      <td>Y</td>\n",
       "    </tr>\n",
       "    <tr>\n",
       "      <th>2069</th>\n",
       "      <td>R2VP11C28JAEZF</td>\n",
       "      <td>5</td>\n",
       "      <td>30</td>\n",
       "      <td>30</td>\n",
       "      <td>N</td>\n",
       "      <td>Y</td>\n",
       "    </tr>\n",
       "    <tr>\n",
       "      <th>...</th>\n",
       "      <td>...</td>\n",
       "      <td>...</td>\n",
       "      <td>...</td>\n",
       "      <td>...</td>\n",
       "      <td>...</td>\n",
       "      <td>...</td>\n",
       "    </tr>\n",
       "    <tr>\n",
       "      <th>4366765</th>\n",
       "      <td>R7M3UQX8B04NM</td>\n",
       "      <td>5</td>\n",
       "      <td>20</td>\n",
       "      <td>21</td>\n",
       "      <td>N</td>\n",
       "      <td>N</td>\n",
       "    </tr>\n",
       "    <tr>\n",
       "      <th>4366771</th>\n",
       "      <td>R1UYT6MT2IOAJN</td>\n",
       "      <td>5</td>\n",
       "      <td>23</td>\n",
       "      <td>24</td>\n",
       "      <td>N</td>\n",
       "      <td>N</td>\n",
       "    </tr>\n",
       "    <tr>\n",
       "      <th>4366804</th>\n",
       "      <td>R8FUPKU9V9O8C</td>\n",
       "      <td>5</td>\n",
       "      <td>3</td>\n",
       "      <td>28</td>\n",
       "      <td>N</td>\n",
       "      <td>N</td>\n",
       "    </tr>\n",
       "    <tr>\n",
       "      <th>4366886</th>\n",
       "      <td>R20WGBU79NREU</td>\n",
       "      <td>5</td>\n",
       "      <td>14</td>\n",
       "      <td>20</td>\n",
       "      <td>N</td>\n",
       "      <td>N</td>\n",
       "    </tr>\n",
       "    <tr>\n",
       "      <th>4366893</th>\n",
       "      <td>R2JC45DHFX613N</td>\n",
       "      <td>5</td>\n",
       "      <td>6</td>\n",
       "      <td>24</td>\n",
       "      <td>N</td>\n",
       "      <td>N</td>\n",
       "    </tr>\n",
       "  </tbody>\n",
       "</table>\n",
       "<p>14581 rows × 6 columns</p>\n",
       "</div>"
      ],
      "text/plain": [
       "              review_id  star_rating  helpful_votes  total_votes vine  \\\n",
       "218      R37F42INKX7L9K            5             45           49    N   \n",
       "557      R2EHKYNEP8WVSR            5             25           25    N   \n",
       "560       RXOS7BHID0UHL            5             16           27    N   \n",
       "909      R33HHGFPB403GM            5             19           21    N   \n",
       "2069     R2VP11C28JAEZF            5             30           30    N   \n",
       "...                 ...          ...            ...          ...  ...   \n",
       "4366765   R7M3UQX8B04NM            5             20           21    N   \n",
       "4366771  R1UYT6MT2IOAJN            5             23           24    N   \n",
       "4366804   R8FUPKU9V9O8C            5              3           28    N   \n",
       "4366886   R20WGBU79NREU            5             14           20    N   \n",
       "4366893  R2JC45DHFX613N            5              6           24    N   \n",
       "\n",
       "        verified_purchase  \n",
       "218                     Y  \n",
       "557                     Y  \n",
       "560                     N  \n",
       "909                     Y  \n",
       "2069                    Y  \n",
       "...                   ...  \n",
       "4366765                 N  \n",
       "4366771                 N  \n",
       "4366804                 N  \n",
       "4366886                 N  \n",
       "4366893                 N  \n",
       "\n",
       "[14581 rows x 6 columns]"
      ]
     },
     "execution_count": 32,
     "metadata": {},
     "output_type": "execute_result"
    }
   ],
   "source": [
    "filter_df_unpaid[filter_df_unpaid[\"star_rating\"]==5.0]"
   ]
  },
  {
   "cell_type": "code",
   "execution_count": null,
   "metadata": {},
   "outputs": [],
   "source": []
  }
 ],
 "metadata": {
  "kernelspec": {
   "display_name": "Python 3",
   "language": "python",
   "name": "python3"
  },
  "language_info": {
   "codemirror_mode": {
    "name": "ipython",
    "version": 3
   },
   "file_extension": ".py",
   "mimetype": "text/x-python",
   "name": "python",
   "nbconvert_exporter": "python",
   "pygments_lexer": "ipython3",
   "version": "3.8.5"
  }
 },
 "nbformat": 4,
 "nbformat_minor": 4
}
